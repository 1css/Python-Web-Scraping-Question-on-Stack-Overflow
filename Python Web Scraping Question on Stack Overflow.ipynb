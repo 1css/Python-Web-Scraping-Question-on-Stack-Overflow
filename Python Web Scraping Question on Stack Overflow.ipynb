{
 "cells": [
  {
   "cell_type": "code",
   "execution_count": null,
   "id": "277fb995",
   "metadata": {},
   "outputs": [],
   "source": [
    "import requests\n",
    "from bs4 import BeautifulSoup as bs\n",
    "\n",
    "page = requests.get('https://stackoverflow.com/questions/tagged/python')\n",
    "soup = bs(page.text, 'lxml')\n",
    "\n",
    "# Find all <div> tags with class \"s-post-summary--content\" that contain <a> tags with class \"s-link\"\n",
    "post_divs = soup.find_all('div', class_='s-post-summary--content')\n",
    "\n",
    "# Extract and print the text content within the specified <div> tags\n",
    "for post_div in post_divs:\n",
    "    # Find <a> tags within the current <div>\n",
    "    links = post_div.find_all('a', class_='s-link')\n",
    "    \n",
    "    # Extract and print the text content of each <a> tag\n",
    "    for link in links:\n",
    "        print(link.text)"
   ]
  },
  {
   "cell_type": "code",
   "execution_count": null,
   "id": "8991e63f",
   "metadata": {},
   "outputs": [],
   "source": []
  }
 ],
 "metadata": {
  "kernelspec": {
   "display_name": "Python 3 (ipykernel)",
   "language": "python",
   "name": "python3"
  },
  "language_info": {
   "codemirror_mode": {
    "name": "ipython",
    "version": 3
   },
   "file_extension": ".py",
   "mimetype": "text/x-python",
   "name": "python",
   "nbconvert_exporter": "python",
   "pygments_lexer": "ipython3",
   "version": "3.11.4"
  }
 },
 "nbformat": 4,
 "nbformat_minor": 5
}
